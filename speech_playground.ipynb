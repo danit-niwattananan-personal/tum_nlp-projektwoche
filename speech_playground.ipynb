{
 "cells": [
  {
   "cell_type": "markdown",
   "metadata": {},
   "source": [
    "# Speech Analysis of Movie Trailers (NLP Project)\n",
    "\n",
    "This notebook performs full speech (dialogue + narration) analysis of trailers across multiple genres.  \n",
    "We will:\n",
    "\n",
    "- Transcribe trailers using Whisper\n",
    "- Label segments as narration vs. dialogue\n",
    "- Analyze word counts, keyword frequency, sentiment, and word clouds\n",
    "- Generate visualizations for use in our group presentation"
   ]
  },
  {
   "cell_type": "code",
   "execution_count": null,
   "metadata": {
    "vscode": {
     "languageId": "plaintext"
    }
   },
   "outputs": [],
   "source": [
    "!pip install git+https://github.com/openai/whisper.git\n",
    "!pip install torch pandas matplotlib seaborn wordcloud textblob\n"
   ]
  },
  {
   "cell_type": "markdown",
   "metadata": {},
   "source": [
    "## Import Libraries\n",
    "\n",
    "We import the Whisper model and supporting tools for analysis.\n"
   ]
  }
 ],
 "metadata": {
  "language_info": {
   "name": "python"
  }
 },
 "nbformat": 4,
 "nbformat_minor": 2
}
