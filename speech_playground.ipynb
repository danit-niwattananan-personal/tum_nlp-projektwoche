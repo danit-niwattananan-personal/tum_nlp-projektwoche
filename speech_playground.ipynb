{
 "cells": [
  {
   "cell_type": "markdown",
   "metadata": {},
   "source": [
    "#  Genre-Based Speech Analysis of Movie Trailers\n",
    "\n",
    "This notebook performs full speech analysis of movie trailers grouped by **genre**.  \n",
    "Each trailer can belong to multiple genres.\n",
    "\n",
    "We will:\n",
    "- Transcribe audio using Whisper\n",
    "- Label narration vs. dialogue\n",
    "- Expand multi-genre labels\n",
    "- Analyze word count, sentiment, frequency, and word clouds **per genre**\n"
   ]
  },
  {
   "cell_type": "code",
   "execution_count": null,
   "metadata": {
    "vscode": {
     "languageId": "plaintext"
    }
   },
   "outputs": [],
   "source": [
    "!pip install git+https://github.com/openai/whisper.git\n",
    "!pip install torch pandas matplotlib seaborn wordcloud textblob\n"
   ]
  },
  {
   "cell_type": "markdown",
   "metadata": {},
   "source": [
    "## Import Libraries\n",
    "\n",
    "We import the Whisper model and supporting tools for analysis.\n"
   ]
  },
  {
   "cell_type": "code",
   "execution_count": null,
   "metadata": {
    "vscode": {
     "languageId": "plaintext"
    }
   },
   "outputs": [],
   "source": [
    "import os\n",
    "import whisper\n",
    "import pandas as pd\n",
    "import matplotlib.pyplot as plt\n",
    "import seaborn as sns\n",
    "from wordcloud import WordCloud\n",
    "from textblob import TextBlob\n",
    "from collections import Counter\n",
    "import string\n"
   ]
  },
  {
   "cell_type": "markdown",
   "metadata": {},
   "source": [
    "## Transcribe All Audio Files\n",
    "\n",
    "This block loads Whisper and transcribes each `.wav` file into timestamped segments.\n"
   ]
  },
  {
   "cell_type": "code",
   "execution_count": null,
   "metadata": {
    "vscode": {
     "languageId": "plaintext"
    }
   },
   "outputs": [],
   "source": [
    "model = whisper.load_model(\"base\")\n",
    "\n",
    "def transcribe_audio(file_path):\n",
    "    result = model.transcribe(file_path)\n",
    "    return result.get(\"segments\", [])\n",
    "\n",
    "audio_dir = \"../data/audio\"\n",
    "transcripts = []\n",
    "\n",
    "for fname in os.listdir(audio_dir):\n",
    "    if fname.endswith(\".wav\"):\n",
    "        print(f\"Transcribing {fname}\")\n",
    "        segments = transcribe_audio(os.path.join(audio_dir, fname))\n",
    "        for seg in segments:\n",
    "            transcripts.append({\n",
    "                \"file\": fname,\n",
    "                \"start\": seg[\"start\"],\n",
    "                \"end\": seg[\"end\"],\n",
    "                \"text\": seg[\"text\"]\n",
    "            })\n",
    "\n",
    "df = pd.DataFrame(transcripts)\n",
    "df.to_csv(\"../data/transcripts.csv\", index=False)\n",
    "df.head()\n"
   ]
  },
  {
   "cell_type": "markdown",
   "metadata": {},
   "source": [
    "##  Merge Genre Metadata\n",
    "\n",
    "We load `mtgc.csv` and attach all relevant genre labels to each trailer segment.\n"
   ]
  },
  {
   "cell_type": "code",
   "execution_count": null,
   "metadata": {
    "vscode": {
     "languageId": "plaintext"
    }
   },
   "outputs": [],
   "source": [
    "meta = pd.read_csv(\"../data/mtgc.csv\")\n",
    "genre_cols = ['action', 'adventure', 'comedy', 'crime', 'drama',\n",
    "              'fantasy', 'horror', 'romance', 'sci-fi', 'thriller']\n",
    "\n",
    "meta[\"base_file\"] = meta[\"mid\"].astype(str)  # Adjust if your filenames match something else\n",
    "\n",
    "df = df.merge(meta[[\"base_file\"] + genre_cols], on=\"base_file\", how=\"left\")\n",
    "df.head()\n"
   ]
  },
  {
   "cell_type": "markdown",
   "metadata": {},
   "source": [
    "## Expand Genre Labels (One Row Per Genre)\n",
    "\n",
    "Each trailer may belong to multiple genres.  \n",
    "We explode the DataFrame so each row reflects one (file, genre) pair.\n"
   ]
  },
  {
   "cell_type": "code",
   "execution_count": null,
   "metadata": {
    "vscode": {
     "languageId": "plaintext"
    }
   },
   "outputs": [],
   "source": [
    "# Melt binary genre columns into rows\n",
    "df_genres = df.melt(\n",
    "    id_vars=[\"file\", \"start\", \"end\", \"text\", \"base_file\"],\n",
    "    value_vars=genre_cols,\n",
    "    var_name=\"genre\",\n",
    "    value_name=\"is_genre\"\n",
    ")\n",
    "\n",
    "# Keep only rows where genre is active\n",
    "df_genres = df_genres[df_genres[\"is_genre\"] == 1].drop(columns=\"is_genre\").reset_index(drop=True)\n",
    "df_genres.head()\n"
   ]
  },
  {
   "cell_type": "markdown",
   "metadata": {},
   "source": [
    "## Label Segments as Narration or Dialogue\n",
    "\n",
    "We use a basic heuristic to distinguish between narration and dialogue:\n",
    "- Long monologues = narration\n",
    "- Short or punctuated lines = dialogue\n"
   ]
  },
  {
   "cell_type": "code",
   "execution_count": null,
   "metadata": {
    "vscode": {
     "languageId": "plaintext"
    }
   },
   "outputs": [],
   "source": [
    "def classify_speech(text):\n",
    "    if len(text.split()) > 10 and text.count(\".\") <= 1:\n",
    "        return \"narration\"\n",
    "    else:\n",
    "        return \"dialogue\"\n",
    "\n",
    "df_genres[\"type\"] = df_genres[\"text\"].apply(classify_speech)\n",
    "df_genres[\"word_count\"] = df_genres[\"text\"].apply(lambda x: len(x.split()))\n",
    "df_genres[\"sentiment\"] = df_genres[\"text\"].apply(lambda x: TextBlob(x).sentiment.polarity)\n"
   ]
  },
  {
   "cell_type": "markdown",
   "metadata": {},
   "source": [
    "## Analyze Per Genre\n",
    "\n",
    "For each genre, we’ll generate:\n",
    "- Word count boxplot\n",
    "- Sentiment distribution\n",
    "- Dialogue vs narration ratio\n",
    "- Word cloud\n",
    "- Top 10 most frequent words\n"
   ]
  },
  {
   "cell_type": "code",
   "execution_count": null,
   "metadata": {
    "vscode": {
     "languageId": "plaintext"
    }
   },
   "outputs": [],
   "source": [
    "genre_stats = []\n",
    "\n",
    "for genre in genre_cols:\n",
    "    genre_df = df_genres[df_genres[\"genre\"] == genre]\n",
    "    \n",
    "    if genre_df.empty:\n",
    "        continue\n",
    "\n",
    "    print(f\"\\n Genre: {genre.upper()} ({len(genre_df)} segments total)\")\n",
    "\n",
    "    for speech_type in [\"dialogue\", \"narration\"]:\n",
    "        subset = genre_df[genre_df[\"type\"] == speech_type]\n",
    "        if subset.empty:\n",
    "            print(f\"No {speech_type} found for {genre}\")\n",
    "            continue\n",
    "\n",
    "        print(f\"\\n {speech_type.capitalize()} in {genre.capitalize()}\")\n",
    "\n",
    "        # Store stats\n",
    "        genre_stats.append({\n",
    "            \"genre\": genre,\n",
    "            \"type\": speech_type,\n",
    "            \"avg_word_count\": subset[\"word_count\"].mean(),\n",
    "            \"avg_sentiment\": subset[\"sentiment\"].mean(),\n",
    "            \"segment_count\": len(subset)\n",
    "        })\n",
    "\n",
    "        # Boxplot: word count\n",
    "        sns.histplot(subset[\"word_count\"], bins=20, kde=True)\n",
    "        plt.title(f\"Word Count - {speech_type.capitalize()} - {genre.capitalize()}\")\n",
    "        plt.xlabel(\"Word Count\")\n",
    "        plt.show()\n",
    "\n",
    "        # Sentiment histogram\n",
    "        sns.histplot(subset[\"sentiment\"], bins=20, kde=True)\n",
    "        plt.title(f\"Sentiment - {speech_type.capitalize()} - {genre.capitalize()}\")\n",
    "        plt.xlabel(\"Sentiment Polarity\")\n",
    "        plt.show()\n",
    "\n",
    "        # Word cloud\n",
    "        text = \" \".join(subset[\"text\"])\n",
    "        wc = WordCloud(width=800, height=400, background_color=\"white\").generate(text)\n",
    "        plt.imshow(wc, interpolation=\"bilinear\")\n",
    "        plt.axis(\"off\")\n",
    "        plt.title(f\"Word Cloud - {speech_type.capitalize()} - {genre.capitalize()}\")\n",
    "        plt.show()\n",
    "\n",
    "        # Top 10 words\n",
    "        words = subset[\"text\"].str.lower().str.replace(r\"[^\\w\\s]\", \"\", regex=True).str.split().explode()\n",
    "        top_words = words.value_counts().head(10)\n",
    "        print(\"Top 10 Words:\")\n",
    "        print(top_words)\n"
   ]
  },
  {
   "cell_type": "code",
   "execution_count": null,
   "metadata": {
    "vscode": {
     "languageId": "plaintext"
    }
   },
   "outputs": [],
   "source": [
    "summary = pd.DataFrame(genre_stats)\n",
    "summary = summary[[\"genre\", \"type\", \"segment_count\", \"avg_word_count\", \"avg_sentiment\"]]\n",
    "summary.round(2) zz\n"
   ]
  }
 ],
 "metadata": {
  "language_info": {
   "name": "python"
  }
 },
 "nbformat": 4,
 "nbformat_minor": 2
}
