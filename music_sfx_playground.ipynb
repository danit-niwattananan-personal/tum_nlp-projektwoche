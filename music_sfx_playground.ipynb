{
 "cells": [
  {
   "cell_type": "code",
   "execution_count": 1,
   "metadata": {},
   "outputs": [
    {
     "name": "stdout",
     "output_type": "stream",
     "text": [
      "\n",
      " Requesting SFX for Scene 1...\n",
      " Saved: assets/audio/sfx/fantasy_scene_01.mp3\n",
      "\n",
      " Requesting SFX for Scene 2...\n",
      " Saved: assets/audio/sfx/fantasy_scene_02.mp3\n",
      "\n",
      " Requesting SFX for Scene 3...\n",
      " Saved: assets/audio/sfx/fantasy_scene_03.mp3\n",
      "\n",
      " Requesting SFX for Scene 4...\n",
      " Saved: assets/audio/sfx/fantasy_scene_04.mp3\n",
      "\n",
      " Requesting SFX for Scene 5...\n",
      " Saved: assets/audio/sfx/fantasy_scene_05.mp3\n",
      "\n",
      " Requesting SFX for Scene 7...\n",
      " Saved: assets/audio/sfx/fantasy_scene_07.mp3\n",
      "\n",
      " Requesting SFX for Scene 8...\n",
      " Saved: assets/audio/sfx/fantasy_scene_08.mp3\n",
      "\n",
      " Requesting SFX for Scene 9...\n",
      " Saved: assets/audio/sfx/fantasy_scene_09.mp3\n",
      "\n",
      " Requesting SFX for Scene 10...\n",
      " Saved: assets/audio/sfx/fantasy_scene_10.mp3\n",
      "\n",
      " Requesting SFX for Scene 11...\n",
      " Saved: assets/audio/sfx/fantasy_scene_11.mp3\n"
     ]
    }
   ],
   "source": [
    "from assets.parsed_scenes import parsed_scenes, genre_prefixes\n",
    "from src.tum_nlp_projektwoche.utils.music_sfx_helpers import build_music_prompt, build_sfx_prompts, generate_sfx\n",
    "\n",
    "API_KEY = \"\"\n",
    "\n",
    "# Step 2: Choose a genre to test\n",
    "genre = \"fantasy\"\n",
    "\n",
    "# Step 3: Build music and SFX prompts\n",
    "#music_prompt = build_music_prompt(genre, parsed_scenes[genre + \"_scenes\"], genre_prefixes[genre])\n",
    "sfx_prompts = build_sfx_prompts(genre, parsed_scenes[genre + \"_scenes\"])\n",
    "generate_sfx(sfx_prompts, genre=genre, api_key=API_KEY)\n",
    "\n"
   ]
  }
 ],
 "metadata": {
  "kernelspec": {
   "display_name": ".venv",
   "language": "python",
   "name": "python3"
  },
  "language_info": {
   "codemirror_mode": {
    "name": "ipython",
    "version": 3
   },
   "file_extension": ".py",
   "mimetype": "text/x-python",
   "name": "python",
   "nbconvert_exporter": "python",
   "pygments_lexer": "ipython3",
   "version": "3.13.4"
  }
 },
 "nbformat": 4,
 "nbformat_minor": 2
}
