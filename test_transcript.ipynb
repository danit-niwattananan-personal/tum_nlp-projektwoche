{
 "cells": [
  {
   "cell_type": "markdown",
   "metadata": {},
   "source": [
    "Test the diarization approach using commercial AI tools like AssemblyAI or Deepgram. The goal is to accurately identify the narrator from the dialogues, and also identify the correct number of speakers and correctly associate the transcripted text with the correct speaker."
   ]
  },
  {
   "cell_type": "code",
   "execution_count": 5,
   "metadata": {},
   "outputs": [],
   "source": [
    "import assemblyai as aai\n",
    "\n",
    "aai.settings.api_key = \"<MY_API_KEY>\"\n",
    "\n",
    "audio_file = 'data/audio/p-pVxwaFuBs.wav'\n",
    "\n",
    "config = aai.TranscriptionConfig(\n",
    "  speaker_labels=True,\n",
    ")\n",
    "\n",
    "transcript = aai.Transcriber().transcribe(audio_file, config)"
   ]
  },
  {
   "cell_type": "code",
   "execution_count": 8,
   "metadata": {},
   "outputs": [
    {
     "name": "stdout",
     "output_type": "stream",
     "text": [
      "Speaker B: Come in close, because the more you think you see, the easier it'll\n",
      "be to fool you.\n",
      "\n",
      "Speaker A: Ladies and gentlemen, for our final trick, we are going to rob a\n",
      "bank. On the count of three, you will be teleported through space and time to\n",
      "your bank in Paris. 1. 2. 3. Everyone. Everyone in this room was a victim of\n",
      "hard times. Some of you lost your homes, your cars. And so tonight, we're gonna\n",
      "return some of that money back to you.\n",
      "\n",
      "Speaker B: Thank you, everyone.\n",
      "\n",
      "Speaker A: Good night, Prince Hands. Right. Can you explain to me how you went\n",
      "from Las Vegas to Paris in three seconds? What do the kids call it these days?\n",
      "\n",
      "Speaker B: Oh, magic.\n",
      "\n",
      "Speaker A: First rule of magic, always be the smartest guy in the room.\n",
      "\n",
      "Speaker B: Your bank was the distract. Wow. They set up the real trick. Expose\n",
      "them now and destroy them. Hang on. Hang on. I got nothing.\n",
      "\n",
      "Speaker A: Okay. Thank you. Thank you for the delay.\n",
      "\n",
      "Speaker B: Whatever this grand trick is, it was designed a long time ago. And I\n",
      "believe that what's about to follow is really going to amaze. Look closely,\n",
      "because the closer you think you are, the less you'll actually see.\n",
      "\n"
     ]
    }
   ],
   "source": [
    "import textwrap\n",
    "for utterance in transcript.utterances:\n",
    "    wrapped_text = textwrap.fill(f\"Speaker {utterance.speaker}: {utterance.text}\", width=80)\n",
    "    print(wrapped_text)\n",
    "    print()"
   ]
  }
 ],
 "metadata": {
  "kernelspec": {
   "display_name": ".venv",
   "language": "python",
   "name": "python3"
  },
  "language_info": {
   "codemirror_mode": {
    "name": "ipython",
    "version": 3
   },
   "file_extension": ".py",
   "mimetype": "text/x-python",
   "name": "python",
   "nbconvert_exporter": "python",
   "pygments_lexer": "ipython3",
   "version": "3.13.2"
  }
 },
 "nbformat": 4,
 "nbformat_minor": 2
}
